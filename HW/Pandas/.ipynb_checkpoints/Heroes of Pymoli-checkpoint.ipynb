{
 "cells": [
  {
   "cell_type": "code",
   "execution_count": 2,
   "metadata": {},
   "outputs": [],
   "source": [
    "import pandas as pd\n",
    "import numpy as np"
   ]
  },
  {
   "cell_type": "code",
   "execution_count": 3,
   "metadata": {},
   "outputs": [],
   "source": [
    "pymoli = pd.read_csv(\"/Users/teresalee/Desktop/purchase_data.csv\")"
   ]
  },
  {
   "cell_type": "code",
   "execution_count": 126,
   "metadata": {},
   "outputs": [
    {
     "data": {
      "text/plain": [
       "Lisosia93        5\n",
       "Idastidru52      4\n",
       "Iral74           4\n",
       "Hada39           3\n",
       "Iskadarya95      3\n",
       "Iri67            3\n",
       "Strithenu87      3\n",
       "Phyali88         3\n",
       "Rarallo90        3\n",
       "Idai61           3\n",
       "Chanastnya43     3\n",
       "Lisim78          3\n",
       "Tyisur83         3\n",
       "Haillyrgue51     3\n",
       "Tyidaim51        3\n",
       "Ialallo29        3\n",
       "Inguron55        3\n",
       "Asur53           3\n",
       "Aina42           3\n",
       "Aelin32          3\n",
       "Hiaral50         3\n",
       "Silaera56        3\n",
       "Ilarin91         3\n",
       "Yathecal82       3\n",
       "Chamimla85       3\n",
       "Lisopela58       3\n",
       "Chamjask73       3\n",
       "Saistyphos30     3\n",
       "Saedaiphos46     3\n",
       "Raesty92         3\n",
       "                ..\n",
       "Cosadar58        1\n",
       "Philodil43       1\n",
       "Raysistast71     1\n",
       "Sundjask71       1\n",
       "Hyaduesu61       1\n",
       "Asty82           1\n",
       "Eoral49          1\n",
       "Lirtirra37       1\n",
       "Aeralria27       1\n",
       "Aelaria33        1\n",
       "Lisirra58        1\n",
       "Syalollorap93    1\n",
       "Jiskossa61       1\n",
       "Chamast86        1\n",
       "Aiduesu86        1\n",
       "Assilsan72       1\n",
       "Lisovynya38      1\n",
       "Hala31           1\n",
       "Ililsasya43      1\n",
       "Chamiman85       1\n",
       "Hisridru55       1\n",
       "Tyaenasti87      1\n",
       "Aidaira26        1\n",
       "Lisico81         1\n",
       "Ethrasyon38      1\n",
       "Alarap40         1\n",
       "Hariphos58       1\n",
       "Lisotesta51      1\n",
       "Frichosiala98    1\n",
       "Lisilsa62        1\n",
       "Name: SN, Length: 576, dtype: int64"
      ]
     },
     "execution_count": 126,
     "metadata": {},
     "output_type": "execute_result"
    }
   ],
   "source": [
    "# Total Number of Players\n",
    "pymoli[\"SN\"].value_counts()"
   ]
  },
  {
   "cell_type": "code",
   "execution_count": 127,
   "metadata": {},
   "outputs": [
    {
     "data": {
      "text/plain": [
       "178    12\n",
       "82      9\n",
       "108     9\n",
       "145     9\n",
       "92      8\n",
       "Name: Item ID, dtype: int64"
      ]
     },
     "execution_count": 127,
     "metadata": {},
     "output_type": "execute_result"
    }
   ],
   "source": [
    "# Number of Unique Items\n",
    "unique_items = pymoli[\"Item ID\"].value_counts()\n",
    "unique_items.head()"
   ]
  },
  {
   "cell_type": "code",
   "execution_count": 55,
   "metadata": {},
   "outputs": [
    {
     "data": {
      "text/plain": [
       "'$3.05'"
      ]
     },
     "execution_count": 55,
     "metadata": {},
     "output_type": "execute_result"
    }
   ],
   "source": [
    "# Average Purchase Price\n",
    "Avg_Price = pymoli[\"Price\"].mean()\n",
    "Avg_Price = (\"${r:1.2f}\".format(r=Avg_Price))\n",
    "Avg_Price"
   ]
  },
  {
   "cell_type": "code",
   "execution_count": 58,
   "metadata": {},
   "outputs": [
    {
     "data": {
      "text/plain": [
       "780"
      ]
     },
     "execution_count": 58,
     "metadata": {},
     "output_type": "execute_result"
    }
   ],
   "source": [
    "# Total Number of Purchases\n",
    "Total_Purchased = pymoli[\"Purchase ID\"].count()\n",
    "Total_Purchased"
   ]
  },
  {
   "cell_type": "code",
   "execution_count": 59,
   "metadata": {},
   "outputs": [
    {
     "data": {
      "text/plain": [
       "2379.77"
      ]
     },
     "execution_count": 59,
     "metadata": {},
     "output_type": "execute_result"
    }
   ],
   "source": [
    "# Total Revenue\n",
    "Total_Revenue = pymoli['Price'].sum()\n",
    "Total_Revenue"
   ]
  },
  {
   "cell_type": "code",
   "execution_count": 73,
   "metadata": {},
   "outputs": [
    {
     "data": {
      "text/html": [
       "<div>\n",
       "<style scoped>\n",
       "    .dataframe tbody tr th:only-of-type {\n",
       "        vertical-align: middle;\n",
       "    }\n",
       "\n",
       "    .dataframe tbody tr th {\n",
       "        vertical-align: top;\n",
       "    }\n",
       "\n",
       "    .dataframe thead th {\n",
       "        text-align: right;\n",
       "    }\n",
       "</style>\n",
       "<table border=\"1\" class=\"dataframe\">\n",
       "  <thead>\n",
       "    <tr style=\"text-align: right;\">\n",
       "      <th></th>\n",
       "      <th>Average Price</th>\n",
       "      <th>Number of Purchases</th>\n",
       "      <th>Number of Unique Items</th>\n",
       "      <th>Total Revenue</th>\n",
       "    </tr>\n",
       "  </thead>\n",
       "  <tbody>\n",
       "    <tr>\n",
       "      <th>0</th>\n",
       "      <td>$3.05</td>\n",
       "      <td>780</td>\n",
       "      <td>576</td>\n",
       "      <td>$2379.77</td>\n",
       "    </tr>\n",
       "  </tbody>\n",
       "</table>\n",
       "</div>"
      ],
      "text/plain": [
       "  Average Price  Number of Purchases  Number of Unique Items Total Revenue\n",
       "0         $3.05                  780                     576      $2379.77"
      ]
     },
     "execution_count": 73,
     "metadata": {},
     "output_type": "execute_result"
    }
   ],
   "source": [
    "# New Table for Purchasing Analysis\n",
    "new_pymoli= pd.DataFrame([{\"Number of Unique Items\":576, \"Average Price\": \"$\"+str(3.05), \"Number of Purchases\":780, \"Total Revenue\":\"$\"+str(2379.77)}])\n",
    "new_pymoli"
   ]
  },
  {
   "cell_type": "code",
   "execution_count": 109,
   "metadata": {},
   "outputs": [],
   "source": [
    "# Percentage and Count of Male Players\n",
    "pymoli_male = pymoli.loc[pymoli[\"Gender\"]==\"Male\"]\n",
    "unique_male = pymoli_male[\"SN\"].value_counts()\n",
    "percentage_male = 484/576\n",
    "\n",
    "# Percentage and Count of Female Players\n",
    "pymoli_female = pymoli.loc[pymoli[\"Gender\"]==\"Female\"]\n",
    "unique_female = pymoli_female[\"SN\"].value_counts()\n",
    "percentage_female = 81/576\n",
    "\n",
    "# Percentage and Count of pOther / Non-Disclosed\n",
    "pymoli_other = pymoli.loc[pymoli[\"Gender\"]==\"Other / Non-Disclosed\"]\n",
    "unique_other = pymoli_other[\"SN\"].value_counts()\n",
    "percentage_other = 11/576"
   ]
  },
  {
   "cell_type": "code",
   "execution_count": 125,
   "metadata": {},
   "outputs": [],
   "source": [
    "# New Table for Gender Demographics\n",
    "gender_pymoli = pd.DataFrame({\"Gender\": [\"Male\", \"Female\", \"Other\"], \"Total Count\": [484, 81, 11], \"Percentage of Player\": [84.03, 14.06,.019]})"
   ]
  },
  {
   "cell_type": "code",
   "execution_count": 126,
   "metadata": {},
   "outputs": [
    {
     "data": {
      "text/html": [
       "<div>\n",
       "<style scoped>\n",
       "    .dataframe tbody tr th:only-of-type {\n",
       "        vertical-align: middle;\n",
       "    }\n",
       "\n",
       "    .dataframe tbody tr th {\n",
       "        vertical-align: top;\n",
       "    }\n",
       "\n",
       "    .dataframe thead th {\n",
       "        text-align: right;\n",
       "    }\n",
       "</style>\n",
       "<table border=\"1\" class=\"dataframe\">\n",
       "  <thead>\n",
       "    <tr style=\"text-align: right;\">\n",
       "      <th></th>\n",
       "      <th>Gender</th>\n",
       "      <th>Total Count</th>\n",
       "      <th>Percentage of Player</th>\n",
       "    </tr>\n",
       "  </thead>\n",
       "  <tbody>\n",
       "    <tr>\n",
       "      <th>0</th>\n",
       "      <td>Male</td>\n",
       "      <td>484</td>\n",
       "      <td>84.030</td>\n",
       "    </tr>\n",
       "    <tr>\n",
       "      <th>1</th>\n",
       "      <td>Female</td>\n",
       "      <td>81</td>\n",
       "      <td>14.060</td>\n",
       "    </tr>\n",
       "    <tr>\n",
       "      <th>2</th>\n",
       "      <td>Other</td>\n",
       "      <td>11</td>\n",
       "      <td>0.019</td>\n",
       "    </tr>\n",
       "  </tbody>\n",
       "</table>\n",
       "</div>"
      ],
      "text/plain": [
       "   Gender  Total Count  Percentage of Player\n",
       "0    Male          484                84.030\n",
       "1  Female           81                14.060\n",
       "2   Other           11                 0.019"
      ]
     },
     "execution_count": 126,
     "metadata": {},
     "output_type": "execute_result"
    }
   ],
   "source": [
    "gender_pymoli"
   ]
  },
  {
   "cell_type": "code",
   "execution_count": 144,
   "metadata": {},
   "outputs": [
    {
     "data": {
      "text/plain": [
       "4.065371900826446"
      ]
     },
     "execution_count": 144,
     "metadata": {},
     "output_type": "execute_result"
    }
   ],
   "source": [
    "# Run basic calculations to obtain purchase count, avg. purchase price, avg. purchase total per person etc. by gender\n",
    "# purchase count\n",
    "pymoli_male[\"Price\"].count()\n",
    "# 652\n",
    "# total purchase price\n",
    "unique_male = pymoli_male[\"Price\"].sum()\n",
    "# $1967.64 \n",
    "# avg purchase price\n",
    "unique_male/652\n",
    "# $3.018\n",
    "# avg purhcase per person\n",
    "unique_male/484\n",
    "# $4.07"
   ]
  },
  {
   "cell_type": "code",
   "execution_count": 166,
   "metadata": {},
   "outputs": [
    {
     "data": {
      "text/plain": [
       "3.0178527607361967"
      ]
     },
     "execution_count": 166,
     "metadata": {},
     "output_type": "execute_result"
    }
   ],
   "source": [
    "unique_male/652"
   ]
  },
  {
   "cell_type": "code",
   "execution_count": 149,
   "metadata": {},
   "outputs": [
    {
     "data": {
      "text/plain": [
       "3.203008849557522"
      ]
     },
     "execution_count": 149,
     "metadata": {},
     "output_type": "execute_result"
    }
   ],
   "source": [
    "# purchase count\n",
    "pymoli_female[\"Price\"].count()\n",
    "# 113\n",
    "# total purchase price\n",
    "unique_female = pymoli_female[\"Price\"].sum()\n",
    "# 361.94 \n",
    "# avg purchase price\n",
    "unique_female/113\n",
    "# 3.20\n",
    "# avg purhcase per person\n",
    "pymoli_female[\"Price\"].sum()/81\n",
    "# 4.47"
   ]
  },
  {
   "cell_type": "code",
   "execution_count": 152,
   "metadata": {},
   "outputs": [],
   "source": [
    "# purchase count\n",
    "pymoli_other[\"Price\"].count()\n",
    "# 15\n",
    "# total purchase price\n",
    "unique_other = pymoli_other[\"Price\"].sum()\n",
    "# 50.19 \n",
    "# avg purchase price\n",
    "unique_other/15\n",
    "# 3.35\n",
    "# avg purhcase per person\n",
    "pymoli_other[\"Price\"].sum()/11\n",
    "# 4.56"
   ]
  },
  {
   "cell_type": "code",
   "execution_count": 167,
   "metadata": {},
   "outputs": [],
   "source": [
    "purchase_analysis = pd.DataFrame({\"Gender\": [\"Male\", \"Female\", \"Other\"], \n",
    "                                  \"Total Purchased\": [652, 113,15],\n",
    "                                  \"Total Price Purchased\": [1967.64, 361.94, 50.19],\n",
    "                                  \"Average Purchase Price\": [3.02, 3.20, 3.35],\n",
    "                                  \"Average Purhcased Per Person\":[4.07, 4.47, 4.56]})"
   ]
  },
  {
   "cell_type": "code",
   "execution_count": 168,
   "metadata": {},
   "outputs": [
    {
     "data": {
      "text/html": [
       "<div>\n",
       "<style scoped>\n",
       "    .dataframe tbody tr th:only-of-type {\n",
       "        vertical-align: middle;\n",
       "    }\n",
       "\n",
       "    .dataframe tbody tr th {\n",
       "        vertical-align: top;\n",
       "    }\n",
       "\n",
       "    .dataframe thead th {\n",
       "        text-align: right;\n",
       "    }\n",
       "</style>\n",
       "<table border=\"1\" class=\"dataframe\">\n",
       "  <thead>\n",
       "    <tr style=\"text-align: right;\">\n",
       "      <th></th>\n",
       "      <th>Gender</th>\n",
       "      <th>Total Purchased</th>\n",
       "      <th>Total Price Purchased</th>\n",
       "      <th>Average Purchase Price</th>\n",
       "      <th>Average Purhcased Per Person</th>\n",
       "    </tr>\n",
       "  </thead>\n",
       "  <tbody>\n",
       "    <tr>\n",
       "      <th>0</th>\n",
       "      <td>Male</td>\n",
       "      <td>652</td>\n",
       "      <td>1967.64</td>\n",
       "      <td>3.02</td>\n",
       "      <td>4.07</td>\n",
       "    </tr>\n",
       "    <tr>\n",
       "      <th>1</th>\n",
       "      <td>Female</td>\n",
       "      <td>113</td>\n",
       "      <td>361.94</td>\n",
       "      <td>3.20</td>\n",
       "      <td>4.47</td>\n",
       "    </tr>\n",
       "    <tr>\n",
       "      <th>2</th>\n",
       "      <td>Other</td>\n",
       "      <td>15</td>\n",
       "      <td>50.19</td>\n",
       "      <td>3.35</td>\n",
       "      <td>4.56</td>\n",
       "    </tr>\n",
       "  </tbody>\n",
       "</table>\n",
       "</div>"
      ],
      "text/plain": [
       "   Gender  Total Purchased  Total Price Purchased  Average Purchase Price  \\\n",
       "0    Male              652                1967.64                    3.02   \n",
       "1  Female              113                 361.94                    3.20   \n",
       "2   Other               15                  50.19                    3.35   \n",
       "\n",
       "   Average Purhcased Per Person  \n",
       "0                          4.07  \n",
       "1                          4.47  \n",
       "2                          4.56  "
      ]
     },
     "execution_count": 168,
     "metadata": {},
     "output_type": "execute_result"
    }
   ],
   "source": [
    "purchase_analysis"
   ]
  },
  {
   "cell_type": "code",
   "execution_count": 50,
   "metadata": {},
   "outputs": [],
   "source": [
    "# Establish bins for ages\n",
    "age = pymoli[\"Age\"].unique()\n",
    "age_bins = [1, 10, 20, 30, 40]\n",
    "bin_names = [\"Teenagers\", \"Young Adults\", \"Middle-Aged-Adults\", \"Older Adults\"]\n",
    "# Categorize the existing players using the age bins. Hint: use pd.cut()\n",
    "pymoli[\"Age Group\"] = pd.cut(pymoli[\"Age\"], age_bins, labels=bin_names)"
   ]
  },
  {
   "cell_type": "code",
   "execution_count": 47,
   "metadata": {},
   "outputs": [
    {
     "data": {
      "text/plain": [
       "Middle-Aged-Adults    402\n",
       "Young Adults          254\n",
       "Older Adults           85\n",
       "Teenagers              32\n",
       "Name: Age Group, dtype: int64"
      ]
     },
     "execution_count": 47,
     "metadata": {},
     "output_type": "execute_result"
    }
   ],
   "source": [
    "pymoli[\"Age Group\"].value_counts()"
   ]
  },
  {
   "cell_type": "code",
   "execution_count": 48,
   "metadata": {},
   "outputs": [
    {
     "data": {
      "text/plain": [
       "Middle-Aged-Adults    52.005175\n",
       "Young Adults          32.858991\n",
       "Older Adults          10.996119\n",
       "Teenagers              4.139715\n",
       "Name: Age Group, dtype: float64"
      ]
     },
     "execution_count": 48,
     "metadata": {},
     "output_type": "execute_result"
    }
   ],
   "source": [
    "# Calculate the numbers and percentages by age group\n",
    "pymoli[\"Age Group\"].value_counts()/773*100"
   ]
  },
  {
   "cell_type": "code",
   "execution_count": 49,
   "metadata": {},
   "outputs": [
    {
     "data": {
      "text/html": [
       "<div>\n",
       "<style scoped>\n",
       "    .dataframe tbody tr th:only-of-type {\n",
       "        vertical-align: middle;\n",
       "    }\n",
       "\n",
       "    .dataframe tbody tr th {\n",
       "        vertical-align: top;\n",
       "    }\n",
       "\n",
       "    .dataframe thead th {\n",
       "        text-align: right;\n",
       "    }\n",
       "</style>\n",
       "<table border=\"1\" class=\"dataframe\">\n",
       "  <thead>\n",
       "    <tr style=\"text-align: right;\">\n",
       "      <th></th>\n",
       "      <th>Demographics</th>\n",
       "      <th>Total Purchase by Age Group</th>\n",
       "      <th>Percent of Players</th>\n",
       "    </tr>\n",
       "  </thead>\n",
       "  <tbody>\n",
       "    <tr>\n",
       "      <th>0</th>\n",
       "      <td>Teenagers</td>\n",
       "      <td>32</td>\n",
       "      <td>4.14</td>\n",
       "    </tr>\n",
       "    <tr>\n",
       "      <th>1</th>\n",
       "      <td>Young Adults</td>\n",
       "      <td>254</td>\n",
       "      <td>32.86</td>\n",
       "    </tr>\n",
       "    <tr>\n",
       "      <th>2</th>\n",
       "      <td>Middle-Aged-Adults</td>\n",
       "      <td>402</td>\n",
       "      <td>52.01</td>\n",
       "    </tr>\n",
       "    <tr>\n",
       "      <th>3</th>\n",
       "      <td>Older Adults</td>\n",
       "      <td>85</td>\n",
       "      <td>11.00</td>\n",
       "    </tr>\n",
       "  </tbody>\n",
       "</table>\n",
       "</div>"
      ],
      "text/plain": [
       "         Demographics  Total Purchase by Age Group  Percent of Players\n",
       "0           Teenagers                           32                4.14\n",
       "1        Young Adults                          254               32.86\n",
       "2  Middle-Aged-Adults                          402               52.01\n",
       "3        Older Adults                           85               11.00"
      ]
     },
     "execution_count": 49,
     "metadata": {},
     "output_type": "execute_result"
    }
   ],
   "source": [
    "# Create a summary data frame to hold the results\n",
    "age_demo = pd.DataFrame({\"Demographics\": [\"Teenagers\", \"Young Adults\", \"Middle-Aged-Adults\", \"Older Adults\"], \n",
    "                         \"Total Purchase by Age Group\": [32, 254, 402, 85],\n",
    "                         \"Percent of Players\": [4.14, 32.86,52.01, 11.00]})\n",
    "age_demo\n",
    "# Display Age Demographics Table"
   ]
  },
  {
   "cell_type": "code",
   "execution_count": 56,
   "metadata": {},
   "outputs": [],
   "source": [
    "# Bin the purchase_data data frame by age\n",
    "age_bins = [1, 10, 20, 30, 40, 50]\n",
    "bin_by_age = [\"1-9\", \"10-19\", \"20-29\", \"30-39\", \"40-49\"]\n",
    "pymoli[\"Age Bin Group\"] = pd.cut(pymoli[\"Age\"], age_bins, labels=bin_by_age)\n",
    "# Create a summary data frame to hold the results\n",
    "# Optional: give the displayed data cleaner formatting\n",
    "# Display the summary data frame"
   ]
  },
  {
   "cell_type": "code",
   "execution_count": 57,
   "metadata": {},
   "outputs": [
    {
     "data": {
      "text/plain": [
       "20-29    402\n",
       "10-19    254\n",
       "30-39     85\n",
       "1-9       32\n",
       "40-49      7\n",
       "Name: Age Bin Group, dtype: int64"
      ]
     },
     "execution_count": 57,
     "metadata": {},
     "output_type": "execute_result"
    }
   ],
   "source": [
    "# Run basic calculations to obtain purchase count\n",
    "pymoli[\"Age Bin Group\"].value_counts()"
   ]
  },
  {
   "cell_type": "code",
   "execution_count": 75,
   "metadata": {},
   "outputs": [
    {
     "data": {
      "text/plain": [
       "108.96000000000001"
      ]
     },
     "execution_count": 75,
     "metadata": {},
     "output_type": "execute_result"
    }
   ],
   "source": [
    "# Avg. purchase price per Age Bin Group\n",
    "kids_purchase = pymoli.loc[pymoli[\"Age Bin Group\"]==\"1-9\"]\n",
    "kids_purchase[\"Price\"].sum()"
   ]
  },
  {
   "cell_type": "code",
   "execution_count": 76,
   "metadata": {},
   "outputs": [
    {
     "data": {
      "text/plain": [
       "778.16"
      ]
     },
     "execution_count": 76,
     "metadata": {},
     "output_type": "execute_result"
    }
   ],
   "source": [
    "teen_purchase = pymoli.loc[pymoli[\"Age Bin Group\"]==\"10-19\"]\n",
    "teen_purchase[\"Price\"].sum()"
   ]
  },
  {
   "cell_type": "code",
   "execution_count": 77,
   "metadata": {},
   "outputs": [
    {
     "data": {
      "text/plain": [
       "1203.06"
      ]
     },
     "execution_count": 77,
     "metadata": {},
     "output_type": "execute_result"
    }
   ],
   "source": [
    "young_adult_purchase = pymoli.loc[pymoli[\"Age Bin Group\"]==\"20-29\"]\n",
    "young_adult_purchase[\"Price\"].sum()"
   ]
  },
  {
   "cell_type": "code",
   "execution_count": 78,
   "metadata": {},
   "outputs": [
    {
     "data": {
      "text/plain": [
       "268.06"
      ]
     },
     "execution_count": 78,
     "metadata": {},
     "output_type": "execute_result"
    }
   ],
   "source": [
    "middle_adult_purchase = pymoli.loc[pymoli[\"Age Bin Group\"]==\"30-39\"]\n",
    "middle_adult_purchase[\"Price\"].sum()"
   ]
  },
  {
   "cell_type": "code",
   "execution_count": 79,
   "metadata": {},
   "outputs": [
    {
     "data": {
      "text/plain": [
       "21.529999999999998"
      ]
     },
     "execution_count": 79,
     "metadata": {},
     "output_type": "execute_result"
    }
   ],
   "source": [
    "older_adult_purchase = pymoli.loc[pymoli[\"Age Bin Group\"]==\"40-49\"]\n",
    "older_adult_purchase[\"Price\"].sum()"
   ]
  },
  {
   "cell_type": "code",
   "execution_count": 80,
   "metadata": {},
   "outputs": [
    {
     "data": {
      "text/plain": [
       "3.4050000000000002"
      ]
     },
     "execution_count": 80,
     "metadata": {},
     "output_type": "execute_result"
    }
   ],
   "source": [
    "# Avg per person\n",
    "kids_purchase[\"Price\"].sum()/32"
   ]
  },
  {
   "cell_type": "code",
   "execution_count": 85,
   "metadata": {},
   "outputs": [
    {
     "data": {
      "text/plain": [
       "3.0636220472440945"
      ]
     },
     "execution_count": 85,
     "metadata": {},
     "output_type": "execute_result"
    }
   ],
   "source": [
    "teen_purchase[\"Price\"].sum()/254"
   ]
  },
  {
   "cell_type": "code",
   "execution_count": 86,
   "metadata": {},
   "outputs": [
    {
     "data": {
      "text/plain": [
       "2.992686567164179"
      ]
     },
     "execution_count": 86,
     "metadata": {},
     "output_type": "execute_result"
    }
   ],
   "source": [
    "young_adult_purchase[\"Price\"].sum()/402"
   ]
  },
  {
   "cell_type": "code",
   "execution_count": 87,
   "metadata": {},
   "outputs": [
    {
     "data": {
      "text/plain": [
       "3.1536470588235295"
      ]
     },
     "execution_count": 87,
     "metadata": {},
     "output_type": "execute_result"
    }
   ],
   "source": [
    "middle_adult_purchase[\"Price\"].sum()/85"
   ]
  },
  {
   "cell_type": "code",
   "execution_count": 88,
   "metadata": {},
   "outputs": [
    {
     "data": {
      "text/plain": [
       "3.075714285714285"
      ]
     },
     "execution_count": 88,
     "metadata": {},
     "output_type": "execute_result"
    }
   ],
   "source": [
    "older_adult_purchase[\"Price\"].sum()/7"
   ]
  },
  {
   "cell_type": "code",
   "execution_count": 89,
   "metadata": {},
   "outputs": [],
   "source": [
    "analysis_by_age = pd.DataFrame({\"Demographics\": [\"1-9\", \"10-19\", \"20-29\", \"30-39\", \"40-49\"],\n",
    "                                \"Total Purchase by Age Group\": [32, 254, 402, 85, 7],\n",
    "                                \"Total Purchase Price per Age Group\": [108.96, 778.16, 1203.06, 268.06, 21.53],\n",
    "                                \"Avg. Spent per Person per Age Group\": [3.41, 3.06, 2.99,3.15, 3.08]})"
   ]
  },
  {
   "cell_type": "code",
   "execution_count": 90,
   "metadata": {},
   "outputs": [
    {
     "data": {
      "text/html": [
       "<div>\n",
       "<style scoped>\n",
       "    .dataframe tbody tr th:only-of-type {\n",
       "        vertical-align: middle;\n",
       "    }\n",
       "\n",
       "    .dataframe tbody tr th {\n",
       "        vertical-align: top;\n",
       "    }\n",
       "\n",
       "    .dataframe thead th {\n",
       "        text-align: right;\n",
       "    }\n",
       "</style>\n",
       "<table border=\"1\" class=\"dataframe\">\n",
       "  <thead>\n",
       "    <tr style=\"text-align: right;\">\n",
       "      <th></th>\n",
       "      <th>Demographics</th>\n",
       "      <th>Total Purchase by Age Group</th>\n",
       "      <th>Total Purchase Price per Age Group</th>\n",
       "      <th>Avg. Spent per Person per Age Group</th>\n",
       "    </tr>\n",
       "  </thead>\n",
       "  <tbody>\n",
       "    <tr>\n",
       "      <th>0</th>\n",
       "      <td>1-9</td>\n",
       "      <td>32</td>\n",
       "      <td>108.96</td>\n",
       "      <td>3.41</td>\n",
       "    </tr>\n",
       "    <tr>\n",
       "      <th>1</th>\n",
       "      <td>10-19</td>\n",
       "      <td>254</td>\n",
       "      <td>778.16</td>\n",
       "      <td>3.06</td>\n",
       "    </tr>\n",
       "    <tr>\n",
       "      <th>2</th>\n",
       "      <td>20-29</td>\n",
       "      <td>402</td>\n",
       "      <td>1203.06</td>\n",
       "      <td>2.99</td>\n",
       "    </tr>\n",
       "    <tr>\n",
       "      <th>3</th>\n",
       "      <td>30-39</td>\n",
       "      <td>85</td>\n",
       "      <td>268.06</td>\n",
       "      <td>3.15</td>\n",
       "    </tr>\n",
       "    <tr>\n",
       "      <th>4</th>\n",
       "      <td>40-49</td>\n",
       "      <td>7</td>\n",
       "      <td>21.53</td>\n",
       "      <td>3.08</td>\n",
       "    </tr>\n",
       "  </tbody>\n",
       "</table>\n",
       "</div>"
      ],
      "text/plain": [
       "  Demographics  Total Purchase by Age Group  \\\n",
       "0          1-9                           32   \n",
       "1        10-19                          254   \n",
       "2        20-29                          402   \n",
       "3        30-39                           85   \n",
       "4        40-49                            7   \n",
       "\n",
       "   Total Purchase Price per Age Group  Avg. Spent per Person per Age Group  \n",
       "0                              108.96                                 3.41  \n",
       "1                              778.16                                 3.06  \n",
       "2                             1203.06                                 2.99  \n",
       "3                              268.06                                 3.15  \n",
       "4                               21.53                                 3.08  "
      ]
     },
     "execution_count": 90,
     "metadata": {},
     "output_type": "execute_result"
    }
   ],
   "source": [
    "analysis_by_age"
   ]
  },
  {
   "cell_type": "code",
   "execution_count": 151,
   "metadata": {},
   "outputs": [
    {
     "data": {
      "text/html": [
       "<div>\n",
       "<style scoped>\n",
       "    .dataframe tbody tr th:only-of-type {\n",
       "        vertical-align: middle;\n",
       "    }\n",
       "\n",
       "    .dataframe tbody tr th {\n",
       "        vertical-align: top;\n",
       "    }\n",
       "\n",
       "    .dataframe thead th {\n",
       "        text-align: right;\n",
       "    }\n",
       "</style>\n",
       "<table border=\"1\" class=\"dataframe\">\n",
       "  <thead>\n",
       "    <tr style=\"text-align: right;\">\n",
       "      <th></th>\n",
       "      <th>Purchase Count</th>\n",
       "    </tr>\n",
       "  </thead>\n",
       "  <tbody>\n",
       "    <tr>\n",
       "      <th>Final Critic</th>\n",
       "      <td>13</td>\n",
       "    </tr>\n",
       "    <tr>\n",
       "      <th>Oathbreaker, Last Hope of the Breaking Storm</th>\n",
       "      <td>12</td>\n",
       "    </tr>\n",
       "    <tr>\n",
       "      <th>Persuasion</th>\n",
       "      <td>9</td>\n",
       "    </tr>\n",
       "    <tr>\n",
       "      <th>Extraction, Quickblade Of Trembling Hands</th>\n",
       "      <td>9</td>\n",
       "    </tr>\n",
       "    <tr>\n",
       "      <th>Fiery Glass Crusader</th>\n",
       "      <td>9</td>\n",
       "    </tr>\n",
       "    <tr>\n",
       "      <th>Nirvana</th>\n",
       "      <td>9</td>\n",
       "    </tr>\n",
       "    <tr>\n",
       "      <th>Retribution Axe</th>\n",
       "      <td>8</td>\n",
       "    </tr>\n",
       "    <tr>\n",
       "      <th>Pursuit, Cudgel of Necromancy</th>\n",
       "      <td>8</td>\n",
       "    </tr>\n",
       "    <tr>\n",
       "      <th>Shadow Strike, Glory of Ending Hope</th>\n",
       "      <td>8</td>\n",
       "    </tr>\n",
       "    <tr>\n",
       "      <th>Lightning, Etcher of the King</th>\n",
       "      <td>8</td>\n",
       "    </tr>\n",
       "  </tbody>\n",
       "</table>\n",
       "</div>"
      ],
      "text/plain": [
       "                                              Purchase Count\n",
       "Final Critic                                              13\n",
       "Oathbreaker, Last Hope of the Breaking Storm              12\n",
       "Persuasion                                                 9\n",
       "Extraction, Quickblade Of Trembling Hands                  9\n",
       "Fiery Glass Crusader                                       9\n",
       "Nirvana                                                    9\n",
       "Retribution Axe                                            8\n",
       "Pursuit, Cudgel of Necromancy                              8\n",
       "Shadow Strike, Glory of Ending Hope                        8\n",
       "Lightning, Etcher of the King                              8"
      ]
     },
     "execution_count": 151,
     "metadata": {},
     "output_type": "execute_result"
    }
   ],
   "source": [
    "# Most popular item\n",
    "most_popular = pymoli[\"Item Name\"].value_counts()\n",
    "most_popular_table = pd.DataFrame({\"Purchase Count\": most_popular})\n",
    "most_popular_table.head(10)"
   ]
  },
  {
   "cell_type": "code",
   "execution_count": null,
   "metadata": {},
   "outputs": [],
   "source": []
  }
 ],
 "metadata": {
  "kernelspec": {
   "display_name": "Python 3",
   "language": "python",
   "name": "python3"
  },
  "language_info": {
   "codemirror_mode": {
    "name": "ipython",
    "version": 3
   },
   "file_extension": ".py",
   "mimetype": "text/x-python",
   "name": "python",
   "nbconvert_exporter": "python",
   "pygments_lexer": "ipython3",
   "version": "3.6.5"
  }
 },
 "nbformat": 4,
 "nbformat_minor": 2
}
